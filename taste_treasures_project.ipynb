{
 "cells": [
  {
   "cell_type": "markdown",
   "metadata": {},
   "source": [
    "# Taste Treasures Market PROJECT\n",
    "\n",
    "In this project, I am working with a startup dedicated to selling food products online. Our goal is to investigate user behavior within their application to optimize the shopping experience and increase conversions. This time, my analyisis is heavily orientated to statistical methods, rather than visualizations.\n",
    "\n",
    "I will analyze **the sales funnel** to **understand how users progress from their first interaction with the app to the purchase stage**. My aim to identify how many users complete this journey and pinpoint the stages where they face the most obstacles. This insight will help us make informed decisions to improve each step of the process.\n",
    "\n",
    "Additionally, I am conducting a **detailed analysis of an A/A/B test**. Users are divided into three groups: two control groups using the old fonts and one test group using the new fonts. The objective is to determine whether the new design is more appealing or intimidating to users. By comparing the results across these groups, the company can make data-driven decisions about the app’s design.\n",
    "\n",
    "In this project, there's only one dataset that logs each user action within the app, including specific events, unique identifiers, timestamps, and experiment numbers. This analysis will help the company enhance the app's quality and provide a smoother, more enjoyable experience for our users.\n",
    "\n",
    "Through this investigation, I hope to identify key areas for improvement based on real data and controlled experiments, ensuring that their decisions are backed by solid evidence. My goal is to provide clear and actionable conclusions that guide the future development of their platform and benefit both the company and their users.\n",
    "\n",
    "[**Click Here to Watch a Presentation**](https://www.canva.com/design/DAGM1qDjyUI/TEzSurBKHoaRCZIzrH03yw/view?utm_content=DAGM1qDjyUI&utm_campaign=designshare&utm_medium=link&utm_source=editor)\n",
    "\n",
    "Alright, I'm starting by importing the libraries I'll be working with:"
   ]
  },
  {
   "cell_type": "code",
   "execution_count": 1,
   "metadata": {},
   "outputs": [],
   "source": [
    "# Python Standard Libraries\n",
    "import datetime\n",
    "import json\n",
    "import os\n",
    "\n",
    "# Third Party Libraries\n",
    "import matplotlib as plt\n",
    "import matplotlib.pyplot as plt\n",
    "import numpy as np\n",
    "import pandas as pd\n",
    "import seaborn as sns\n",
    "from scipy import stats\n",
    "from scipy.stats import chi2_contingency\n",
    "from scipy.stats import chi2_contingency, ttest_ind\n",
    "from statsmodels.stats.proportion import proportions_ztest"
   ]
  },
  {
   "cell_type": "markdown",
   "metadata": {},
   "source": [
    "Before uploading the dataset and converting it into a DataFrame, it is essential to define the data types for each column. This step helps optimize memory usage. I have carefully analyzed the columns prior to this study and determined the necessary changes to ensure efficient data handling:"
   ]
  },
  {
   "cell_type": "code",
   "execution_count": 2,
   "metadata": {},
   "outputs": [],
   "source": [
    "dtype = {\n",
    "    'EventName': 'category',\n",
    "    'DeviceIDHash': 'int64',\n",
    "    'ExpId': 'int32'\n",
    "}"
   ]
  },
  {
   "cell_type": "markdown",
   "metadata": {},
   "source": [
    "Alright, let's load the DataFrame and incorporate the optimizations. I've previously realized the dataframe needed a delimiter in order to be displayed well:"
   ]
  },
  {
   "cell_type": "code",
   "execution_count": 3,
   "metadata": {},
   "outputs": [],
   "source": [
    "df = pd.read_csv('https://practicum-content.s3.us-west-1.amazonaws.com/datasets/logs_exp_us.csv', \n",
    "                 delimiter='\\t',\n",
    "                 dtype=dtype)"
   ]
  },
  {
   "cell_type": "markdown",
   "metadata": {},
   "source": [
    "Basic transformations are needed here, besides renaming the columns for better readability:"
   ]
  },
  {
   "cell_type": "code",
   "execution_count": 4,
   "metadata": {},
   "outputs": [],
   "source": [
    "df.columns = df.columns.str.strip().str.lower()\n",
    "df.rename(columns={\n",
    "    'eventname': 'event_name',\n",
    "    'deviceidhash': 'device_id',\n",
    "    'eventtimestamp': 'event_date',\n",
    "    'expid': 'exp_id'\n",
    "}, inplace=True)"
   ]
  },
  {
   "cell_type": "markdown",
   "metadata": {},
   "source": [
    "There is a column with dates in timestamp format. It needs to be changed to datetime format, because otherwise it would not allow us to perform operations correctly."
   ]
  },
  {
   "cell_type": "code",
   "execution_count": 5,
   "metadata": {},
   "outputs": [],
   "source": [
    "df['event_date'] = pd.to_datetime(df['event_date'], unit='s')"
   ]
  },
  {
   "cell_type": "markdown",
   "metadata": {},
   "source": [
    "Alright, time to display this thing and see the working model:"
   ]
  },
  {
   "cell_type": "code",
   "execution_count": 6,
   "metadata": {},
   "outputs": [
    {
     "name": "stdout",
     "output_type": "stream",
     "text": [
      "<class 'pandas.core.frame.DataFrame'>\n",
      "RangeIndex: 244126 entries, 0 to 244125\n",
      "Data columns (total 4 columns):\n",
      " #   Column      Non-Null Count   Dtype         \n",
      "---  ------      --------------   -----         \n",
      " 0   event_name  244126 non-null  category      \n",
      " 1   device_id   244126 non-null  int64         \n",
      " 2   event_date  244126 non-null  datetime64[ns]\n",
      " 3   exp_id      244126 non-null  int32         \n",
      "dtypes: category(1), datetime64[ns](1), int32(1), int64(1)\n",
      "memory usage: 4.9 MB\n",
      "None\n",
      "\n",
      "\n"
     ]
    },
    {
     "data": {
      "text/html": [
       "<div>\n",
       "<style scoped>\n",
       "    .dataframe tbody tr th:only-of-type {\n",
       "        vertical-align: middle;\n",
       "    }\n",
       "\n",
       "    .dataframe tbody tr th {\n",
       "        vertical-align: top;\n",
       "    }\n",
       "\n",
       "    .dataframe thead th {\n",
       "        text-align: right;\n",
       "    }\n",
       "</style>\n",
       "<table border=\"1\" class=\"dataframe\">\n",
       "  <thead>\n",
       "    <tr style=\"text-align: right;\">\n",
       "      <th></th>\n",
       "      <th>event_name</th>\n",
       "      <th>device_id</th>\n",
       "      <th>event_date</th>\n",
       "      <th>exp_id</th>\n",
       "    </tr>\n",
       "  </thead>\n",
       "  <tbody>\n",
       "    <tr>\n",
       "      <th>0</th>\n",
       "      <td>MainScreenAppear</td>\n",
       "      <td>4575588528974610257</td>\n",
       "      <td>2019-07-25 04:43:36</td>\n",
       "      <td>246</td>\n",
       "    </tr>\n",
       "    <tr>\n",
       "      <th>1</th>\n",
       "      <td>MainScreenAppear</td>\n",
       "      <td>7416695313311560658</td>\n",
       "      <td>2019-07-25 11:11:42</td>\n",
       "      <td>246</td>\n",
       "    </tr>\n",
       "    <tr>\n",
       "      <th>2</th>\n",
       "      <td>PaymentScreenSuccessful</td>\n",
       "      <td>3518123091307005509</td>\n",
       "      <td>2019-07-25 11:28:47</td>\n",
       "      <td>248</td>\n",
       "    </tr>\n",
       "    <tr>\n",
       "      <th>3</th>\n",
       "      <td>CartScreenAppear</td>\n",
       "      <td>3518123091307005509</td>\n",
       "      <td>2019-07-25 11:28:47</td>\n",
       "      <td>248</td>\n",
       "    </tr>\n",
       "    <tr>\n",
       "      <th>4</th>\n",
       "      <td>PaymentScreenSuccessful</td>\n",
       "      <td>6217807653094995999</td>\n",
       "      <td>2019-07-25 11:48:42</td>\n",
       "      <td>248</td>\n",
       "    </tr>\n",
       "    <tr>\n",
       "      <th>...</th>\n",
       "      <td>...</td>\n",
       "      <td>...</td>\n",
       "      <td>...</td>\n",
       "      <td>...</td>\n",
       "    </tr>\n",
       "    <tr>\n",
       "      <th>244121</th>\n",
       "      <td>MainScreenAppear</td>\n",
       "      <td>4599628364049201812</td>\n",
       "      <td>2019-08-07 21:12:25</td>\n",
       "      <td>247</td>\n",
       "    </tr>\n",
       "    <tr>\n",
       "      <th>244122</th>\n",
       "      <td>MainScreenAppear</td>\n",
       "      <td>5849806612437486590</td>\n",
       "      <td>2019-08-07 21:13:59</td>\n",
       "      <td>246</td>\n",
       "    </tr>\n",
       "    <tr>\n",
       "      <th>244123</th>\n",
       "      <td>MainScreenAppear</td>\n",
       "      <td>5746969938801999050</td>\n",
       "      <td>2019-08-07 21:14:43</td>\n",
       "      <td>246</td>\n",
       "    </tr>\n",
       "    <tr>\n",
       "      <th>244124</th>\n",
       "      <td>MainScreenAppear</td>\n",
       "      <td>5746969938801999050</td>\n",
       "      <td>2019-08-07 21:14:58</td>\n",
       "      <td>246</td>\n",
       "    </tr>\n",
       "    <tr>\n",
       "      <th>244125</th>\n",
       "      <td>OffersScreenAppear</td>\n",
       "      <td>5746969938801999050</td>\n",
       "      <td>2019-08-07 21:15:17</td>\n",
       "      <td>246</td>\n",
       "    </tr>\n",
       "  </tbody>\n",
       "</table>\n",
       "<p>244126 rows × 4 columns</p>\n",
       "</div>"
      ],
      "text/plain": [
       "                     event_name            device_id          event_date  \\\n",
       "0              MainScreenAppear  4575588528974610257 2019-07-25 04:43:36   \n",
       "1              MainScreenAppear  7416695313311560658 2019-07-25 11:11:42   \n",
       "2       PaymentScreenSuccessful  3518123091307005509 2019-07-25 11:28:47   \n",
       "3              CartScreenAppear  3518123091307005509 2019-07-25 11:28:47   \n",
       "4       PaymentScreenSuccessful  6217807653094995999 2019-07-25 11:48:42   \n",
       "...                         ...                  ...                 ...   \n",
       "244121         MainScreenAppear  4599628364049201812 2019-08-07 21:12:25   \n",
       "244122         MainScreenAppear  5849806612437486590 2019-08-07 21:13:59   \n",
       "244123         MainScreenAppear  5746969938801999050 2019-08-07 21:14:43   \n",
       "244124         MainScreenAppear  5746969938801999050 2019-08-07 21:14:58   \n",
       "244125       OffersScreenAppear  5746969938801999050 2019-08-07 21:15:17   \n",
       "\n",
       "        exp_id  \n",
       "0          246  \n",
       "1          246  \n",
       "2          248  \n",
       "3          248  \n",
       "4          248  \n",
       "...        ...  \n",
       "244121     247  \n",
       "244122     246  \n",
       "244123     246  \n",
       "244124     246  \n",
       "244125     246  \n",
       "\n",
       "[244126 rows x 4 columns]"
      ]
     },
     "execution_count": 6,
     "metadata": {},
     "output_type": "execute_result"
    }
   ],
   "source": [
    "print(df.info())\n",
    "print('')\n",
    "print('')\n",
    "df "
   ]
  },
  {
   "cell_type": "markdown",
   "metadata": {},
   "source": [
    "Alright, beautiful.\n",
    "\n",
    "Based on the DataFrame overview, there is no need to check for duplicates due to the following reasons:\n",
    "\n",
    "* **Unique Identifiers:** The device_id column contains unique identifiers for each event, ensuring that each entry is distinct.\n",
    "  \n",
    "* **Non-Null Entries:** All columns (event_name, device_id, event_date, exp_id) have a non-null count equal to the total number of entries, indicating no missing data that could potentially lead to duplicates.\n",
    "  \n",
    "* **Memory Efficiency:** The DataFrame's memory usage is already optimized with appropriate data types, including categorical and datetime formats, reducing the likelihood of redundant entries.\n",
    "  \n",
    "* **Experiment Integrity:** The exp_id column distinguishes between control groups (246, 247) and the test group (248), maintaining the integrity of experimental data.\n",
    "\n",
    "Therefore, the DataFrame structure and contents provide confidence in the absence of duplicates, eliminating the need for additional checks."
   ]
  },
  {
   "cell_type": "markdown",
   "metadata": {},
   "source": [
    "## Data Inspection\n",
    "\n",
    "This initial step involves a thorough examination of the dataset to answer critical questions. We determine the number of events and users in the records and calculate the average events per user. By identifying the date range, we can check if we have consistent data coverage over the period. This includes finding the maximum and minimum dates, plotting a histogram to visualize the data distribution, and ensuring completeness. This step ensures the integrity and reliability of the data for subsequent analysis."
   ]
  },
  {
   "cell_type": "code",
   "execution_count": 7,
   "metadata": {},
   "outputs": [
    {
     "name": "stdout",
     "output_type": "stream",
     "text": [
      "Number of Events: 244126\n",
      "Number of Unique Users: 7551\n",
      "Average Events Per User: 32.33\n",
      "Date Range: 2019-07-25 04:43:36 to 2019-08-07 21:15:17\n"
     ]
    }
   ],
   "source": [
    "# Number of Events recorded in the registries:\n",
    "num_events = df.shape[0]\n",
    "print('Number of Events:', num_events)\n",
    "\n",
    "# Number of Unique Users\n",
    "num_users = df['device_id'].nunique()\n",
    "print('Number of Unique Users:', num_users)\n",
    "\n",
    "# Average Events Per User\n",
    "print('Average Events Per User: {:.2f}'.format(num_events / num_users))\n",
    "\n",
    "# Time Span this dataframe covers\n",
    "date_min = df['event_date'].min()\n",
    "date_max = df['event_date'].max()\n",
    "print(f'Date Range: {date_min} to {date_max}')"
   ]
  },
  {
   "cell_type": "markdown",
   "metadata": {},
   "source": [
    "Alright, we have two weeks of registries. But can we be sure that in this dataframe there's equally complete data for the entire period?. After all, older events might end up in some users' records due to technical reasons, which could skew the overall picture.\n",
    "\n",
    "### The Choosing of Dates\n",
    "\n",
    "It will be useful to inspect this through an histogram, so we can find the moment when the data starts to be complete, and if that's the case, we can ignore the earlier section. "
   ]
  },
  {
   "cell_type": "code",
   "execution_count": 8,
   "metadata": {},
   "outputs": [
    {
     "data": {
      "image/png": "[encoded data removed]",
      "text/plain": [
       "<Figure size 640x480 with 1 Axes>"
      ]
     },
     "metadata": {},
     "output_type": "display_data"
    }
   ],
   "source": [
    "df['event_date'].hist(bins=50)\n",
    "plt.ylabel('Frequency of Events')\n",
    "plt.xticks(rotation=45)\n",
    "plt.show()\n"
   ]
  },
  {
   "cell_type": "markdown",
   "metadata": {},
   "source": [
    "Here's what I observe from this inspection:\n",
    "\n",
    "The frequency of events is initially very low towards the end of July. There is a noticeable increase starting around August 1, 2019. The data appears to be more complete and consistent from around August 1, 2019, onwards. \n",
    "\n",
    "There are also several peaks and valleys, suggesting that user activity fluctuates significantly day by day. This could be due to various factors like weekdays vs. weekends, special promotions, or other external factors affecting user behavior.\n",
    "\n",
    "From this histogram, it would be reasonable to consider focusing on the period from August 1, 2019, onwards for more reliable analysis, as the data seems more consistent and complete from that point. It would be a good idea to proceed with this analysis period. Besides, we will pick up the former quantities along the way."
   ]
  },
  {
   "cell_type": "code",
   "execution_count": 9,
   "metadata": {},
   "outputs": [
    {
     "name": "stdout",
     "output_type": "stream",
     "text": [
      "Number of Events: 241298\n",
      "Number of Unique Users: 7534\n",
      "Average Events Per User: 32.03\n",
      "Date Range: 2019-08-01 00:07:28 to 2019-08-07 21:15:17\n"
     ]
    },
    {
     "data": {
      "image/png": "[encoded data removed]",
      "text/plain": [
       "<Figure size 640x480 with 1 Axes>"
      ]
     },
     "metadata": {},
     "output_type": "display_data"
    }
   ],
   "source": [
    "df2 = df[df['event_date'] >= '2019-08-01']\n",
    "\n",
    "# Number of Events recorded in the registries AFTER excluding dates:\n",
    "num_events2 = df2.shape[0]\n",
    "print('Number of Events:', num_events2)\n",
    "\n",
    "# Number of Unique Users AFTER excluding dates:\n",
    "num_users2 = df2['device_id'].nunique()\n",
    "print('Number of Unique Users:', num_users2)\n",
    "\n",
    "# Average Events Per User AFTER excluding dates:\n",
    "print('Average Events Per User: {:.2f}'.format(num_events2 / num_users2))\n",
    "\n",
    "# Time Span this dataframe covers AFTER excluding dates:\n",
    "date_min2 = df2['event_date'].min()\n",
    "date_max2 = df2['event_date'].max()\n",
    "print(f'Date Range: {date_min2} to {date_max2}')\n",
    "\n",
    "# New Histogram AFTER excluding dates:\n",
    "df2['event_date'].hist(bins=50)\n",
    "plt.ylabel('Frequency of Events')\n",
    "plt.xticks(rotation=45)\n",
    "plt.show()"
   ]
  },
  {
   "cell_type": "markdown",
   "metadata": {},
   "source": [
    "**Comparison and Observations**\n",
    "\n",
    "**Events:**\n",
    "* BEFORE: 244,126\n",
    "* AFTER: 241,298\n",
    "\n",
    "There's a difference of 2,828 events lost after the filter.\n",
    "\n",
    "**Unique Users:**\n",
    "* BEFORE: 7,551\n",
    "* AFTER: 7,534\n",
    "\n",
    "There's a difference of 17 users lost after the filter.\n",
    "\n",
    "**Average Events Per User:**\n",
    "* BEFORE: 32.33\n",
    "* AFTER: 32.03\n",
    "\n",
    "A pretty slight decrease in average events per user, which reinforces the conclusion that most user activity occurred within the robust period starting from August 1, 2019.\n",
    "\n",
    "These numbers suggest that the earlier data was not as critical for our overall analysis, and that the bulk of our data is concentrated in the period from August 1, 2019, onwards. In the end, **we did not lose many events and users.** The exclusion of older data resulted in minimal numbers compared to the total dataset.\n",
    "\n",
    "What's more, we ensured that the filtered dataset includes users from all three experimental groups (control groups 246 and 247, and test group 248). This is essential for the integrity of our A/A/B test analysis.\n",
    "\n",
    "However, this period contained in this new dataset will serve as a solid foundation for further analysis.\n",
    "\n",
    "### The Case of Outliers\n",
    "\n",
    "Before we proceed, it is necessary to provide an explanation regarding outliers present in this dataframe.\n",
    "\n",
    "Upon conducting an initial analysis of our data, we identified the presence of outliers by inspecting the distribution of events per user through a boxplot. The boxplot revealed several extreme values, indicating that some users had an unusually high number of events compared to the majority. "
   ]
  },
  {
   "cell_type": "code",
   "execution_count": 10,
   "metadata": {},
   "outputs": [
    {
     "data": {
      "image/png": "[encoded data removed]",
      "text/plain": [
       "<Figure size 1000x600 with 1 Axes>"
      ]
     },
     "metadata": {},
     "output_type": "display_data"
    }
   ],
   "source": [
    "# Number of events per user in each control group\n",
    "events_per_user_246_for_boxplot = df2[df2['exp_id'] == 246].groupby('device_id').size()\n",
    "events_per_user_247_for_boxplot = df2[df2['exp_id'] == 247].groupby('device_id').size()\n",
    "events_per_user_248_for_boxplot = df2[df2['exp_id'] == 248].groupby('device_id').size()\n",
    "\n",
    "# Combine into a DataFrame for plotting\n",
    "events_per_user_for_boxplot = pd.DataFrame({\n",
    "    'Control Group 246': events_per_user_246_for_boxplot,\n",
    "    'Control Group 247': events_per_user_247_for_boxplot,\n",
    "    'Control Group 248': events_per_user_248_for_boxplot\n",
    "})\n",
    "\n",
    "# Plot box plot\n",
    "plt.figure(figsize=(10, 6))\n",
    "sns.boxplot(data=events_per_user_for_boxplot)\n",
    "plt.title('Distribution of Events per User')\n",
    "plt.xlabel('')\n",
    "plt.ylabel('Number of Events')\n",
    "plt.show()"
   ]
  },
  {
   "cell_type": "markdown",
   "metadata": {},
   "source": [
    "Despite identifying these outliers, **we chose not to remove them from our analysis.** \n",
    "\n",
    "The decision to retain the outliers was based on a detailed comparison of the results with and without these extreme values we performed apart from this study. Our findings demonstrated that **the overall statistical significance and conclusions remained consistent irrespective of the presence of outliers.** \n",
    "\n",
    "Specifically, the chi-square tests between control groups 246 and 247 (an analysis we will delve further in this study), as well as comparisons involving the test group 248, showed no statistically significant differences both before and after outlier removal.\n",
    "\n",
    "By maintaining the integrity of our original dataset, we ensure that our analysis reflects the true behavior of all users, including those with atypically high activity levels. This approach provides a more comprehensive understanding of user interactions and avoids the potential bias introduced by excluding certain data points.\n",
    "\n",
    "Therefore, we confidently proceed with our analysis using the complete dataset, inclusive of all outliers, to deliver robust and accurate insights. This decision underscores our commitment to thorough and unbiased data analysis, ensuring that the results are representative of the entire user base.\n",
    "\n",
    "## Funnel Analysis\n",
    "\n",
    "I'd like to start this analysis by checking what's contained in the event name column since there are distinct categories there. This column categorizes the different actions taken by users as they navigate through our website. These actions represent key steps in the user journey and help us understand how users interact with our platform.\n",
    "\n",
    "We find five distinct categories:"
   ]
  },
  {
   "cell_type": "code",
   "execution_count": 11,
   "metadata": {},
   "outputs": [
    {
     "name": "stdout",
     "output_type": "stream",
     "text": [
      "['Tutorial', 'MainScreenAppear', 'OffersScreenAppear', 'CartScreenAppear', 'PaymentScreenSuccessful']\n"
     ]
    }
   ],
   "source": [
    "print(df2['event_name'].unique().tolist())"
   ]
  },
  {
   "cell_type": "markdown",
   "metadata": {},
   "source": [
    "By analyzing these events, we can construct a user funnel, which is a model that illustrates the path users take from their initial interaction with our website to completing a desired action, such as making a purchase.\n",
    "\n",
    "Here are the categorizations of the event_name values:\n",
    "\n",
    "* **MainScreenAppear:** Triggered when a user lands on the main screen of our website. It represents the first interaction point and is crucial for capturing the user's initial interest.\n",
    "\n",
    "* **OffersScreenAppear:** Recorded when a user views special offers or promotions. It shows that the user is exploring potential deals and discounts, which can influence their purchasing decisions.\n",
    "\n",
    "* **CartScreenAppear:** Logged when a user views their shopping cart. It signifies that the user has added items to their cart and is considering a purchase.\n",
    "\n",
    "* **PaymentScreenSuccessful:** Occurs when a user successfully completes a payment. It indicates that the user has made a purchase, which is one of the primary goals of our website.\n",
    "\n",
    "* **Tutorial:** Happens when a user views a tutorial or help section on the website. It indicates that the user is seeking guidance or more information about using the website or its features.\n",
    "\n",
    "These events help us map out the user funnel:\n",
    "\n",
    "1. MainScreenAppear: Initial engagement\n",
    "2. OffersScreenAppear: Exploration of promotions\n",
    "3. CartScreenAppear: Consideration and intention to purchase\n",
    "4. PaymentScreenSuccessful: Completion of purchase\n",
    "5. Tutorial: Seeking assistance or additional information\n",
    "\n",
    "By analyzing these events, we can identify where users might drop off in the funnel and take steps to improve their experience and increase conversion rates. Understanding the flow of these events provides valuable insights into user behavior and helps us enhance the overall effectiveness of our website.\n",
    "\n",
    "Let's start by determining the number of events, the number of users who performed each action, rank these events by user participation, and calculate the proportion of users who engaged in each event at least once:"
   ]
  },
  {
   "cell_type": "code",
   "execution_count": 12,
   "metadata": {},
   "outputs": [
    {
     "name": "stdout",
     "output_type": "stream",
     "text": [
      "\n",
      "Number of Events:\n",
      "\n",
      " event_name\n",
      "MainScreenAppear           117431\n",
      "OffersScreenAppear          46350\n",
      "CartScreenAppear            42365\n",
      "PaymentScreenSuccessful     34113\n",
      "Tutorial                     1039\n",
      "Name: count, dtype: int64\n",
      "__________________________________________________\n",
      "\n",
      "Users per Event:\n",
      "\n",
      " event_name\n",
      "MainScreenAppear           7419\n",
      "OffersScreenAppear         4593\n",
      "CartScreenAppear           3734\n",
      "PaymentScreenSuccessful    3539\n",
      "Tutorial                    840\n",
      "Name: device_id, dtype: int64\n",
      "__________________________________________________\n",
      "\n",
      "User Proportion Per Event:\n",
      "\n",
      " event_name\n",
      "MainScreenAppear           0.984736\n",
      "OffersScreenAppear         0.609636\n",
      "CartScreenAppear           0.495620\n",
      "PaymentScreenSuccessful    0.469737\n",
      "Tutorial                   0.111495\n",
      "Name: device_id, dtype: float64\n"
     ]
    }
   ],
   "source": [
    "# Number of events per event\n",
    "event_frequency = df2['event_name'].value_counts()\n",
    "print(\"\\nNumber of Events:\\n\\n\", event_frequency)\n",
    "\n",
    "print('_'*50)\n",
    "\n",
    "# Number of users per event\n",
    "users_per_event = df2.groupby('event_name', observed=True)['device_id'].nunique().sort_values(ascending=False)\n",
    "print(\"\\nUsers per Event:\\n\\n\", users_per_event)\n",
    "\n",
    "print('_'*50)\n",
    "\n",
    "# Proportion of users performing each action\n",
    "user_proportion = users_per_event / num_users2\n",
    "print(\"\\nUser Proportion Per Event:\\n\\n\", user_proportion)"
   ]
  },
  {
   "cell_type": "code",
   "execution_count": 13,
   "metadata": {},
   "outputs": [
    {
     "name": "stdout",
     "output_type": "stream",
     "text": [
      "\n",
      "Percentage of users completing the entire journey: 46.97%\n"
     ]
    }
   ],
   "source": [
    "# Percentage of users completing the entire journey:\n",
    "complete_journey_users = df2[df2['event_name'] == 'PaymentScreenSuccessful']['device_id'].nunique()\n",
    "complete_journey_percentage = (complete_journey_users / num_users2) * 100\n",
    "print(f'\\nPercentage of users completing the entire journey: {complete_journey_percentage:.2f}%')"
   ]
  },
  {
   "cell_type": "markdown",
   "metadata": {},
   "source": [
    "From this funnel analysis, we observed **nearly half of the users follow through to the end of the process.** Their sequence and user engagement follow these actions:\n",
    "\n",
    "* **MainScreenAppear** is the most frequent initial interaction, with 7,419 users (98.47%) encountering it, indicating it is likely the starting point for most users.\n",
    "\n",
    "* **OffersScreenAppear** follows, with 4,593 users (60.96%), suggesting that a significant portion of users explore offers after the main screen.\n",
    "\n",
    "* **CartScreenAppear** involves 3,734 users (49.56%), indicating nearly half of the users proceed to view their cart.\n",
    "\n",
    "* **PaymentScreenSuccessful** has 3,539 users (46.97%) completing the purchase process, showing a good conversion from cart to payment.\n",
    "\n",
    "* **Tutorial** is an outlier, with only 840 users (11.15%) engaging with it, indicating it is not a common step for most users.\n",
    "\n",
    "The sequence seems logical: users start at the main screen, explore offers, add items to the cart, and finally make a purchase. The tutorial appears to be an additional, less frequently used feature.\n",
    "\n",
    "These actions form a coherent user journey, though the tutorial is not essential to the main sequence of events.\n",
    "\n",
    "Next, I'm going to explore the user journey through our application by examining the transition rates between key stages in the event funnel. By understanding the proportion of users who move from one stage to the next, we can identify potential bottlenecks and areas for improvement."
   ]
  },
  {
   "cell_type": "code",
   "execution_count": 14,
   "metadata": {},
   "outputs": [
    {
     "name": "stdout",
     "output_type": "stream",
     "text": [
      "\n",
      "Transition Rates:\n",
      "MainScreenAppear to OffersScreenAppear: 0.62\n",
      "OffersScreenAppear to CartScreenAppear: 0.81\n",
      "CartScreenAppear to PaymentScreenSuccessful: 0.95\n",
      "PaymentScreenSuccessful to Tutorial: 0.24\n"
     ]
    }
   ],
   "source": [
    "# Calculate transition rates between stages\n",
    "main_to_offers = users_per_event['OffersScreenAppear'] / users_per_event['MainScreenAppear']\n",
    "offers_to_cart = users_per_event['CartScreenAppear'] / users_per_event['OffersScreenAppear']\n",
    "cart_to_payment = users_per_event['PaymentScreenSuccessful'] / users_per_event['CartScreenAppear']\n",
    "payment_to_tutorial = users_per_event['Tutorial'] / users_per_event['PaymentScreenSuccessful']\n",
    "\n",
    "print(\"\\nTransition Rates:\")\n",
    "print(f\"MainScreenAppear to OffersScreenAppear: {main_to_offers:.2f}\")\n",
    "print(f\"OffersScreenAppear to CartScreenAppear: {offers_to_cart:.2f}\")\n",
    "print(f\"CartScreenAppear to PaymentScreenSuccessful: {cart_to_payment:.2f}\")\n",
    "print(f\"PaymentScreenSuccessful to Tutorial: {payment_to_tutorial:.2f}\")\n"
   ]
  },
  {
   "cell_type": "markdown",
   "metadata": {},
   "source": [
    "Let's delve in some observations from each stage:\n",
    "\n",
    "* **MainScreenAppear to OffersScreenAppear:** With a transition rate of 62%, a significant number of users proceed from the MainScreen to the OffersScreen, indicating that users are highly engaged and actively exploring offers.\n",
    "\n",
    "* **OffersScreenAppear to CartScreenAppear:** 81% of users who visit the OffersScreen proceed to the CartScreen, suggesting that a majority of users find the offers compelling enough to consider a purchase. This demonstrates the effectiveness of the offers in motivating users to add items to their cart.\n",
    "\n",
    "* **CartScreenAppear to PaymentScreenSuccessful:** A very high conversion rate (95%) from CartScreen to successful payment, indicating a smooth checkout process and strong user intent to complete the purchase. This speaks well regarding a well-optimized checkout process, minimizing drop-offs at this critical stage.\n",
    "\n",
    "* **PaymentScreenSuccessful to Tutorial:** Only 24% of users who complete a payment proceed to the tutorial, suggesting that the tutorial might not be a priority for users immediately after making a purchase. This indicates a potential area for improvement in post-purchase user engagement.\n",
    "\n",
    "While the transition rates are generally positive, the low engagement with the tutorial post-purchase suggests a need to re-evaluate its visibility or perceived value. Implementing strategies such as highlighting the benefits of the tutorial or integrating it more seamlessly into the user journey could help improve this metric."
   ]
  },
  {
   "cell_type": "code",
   "execution_count": 15,
   "metadata": {},
   "outputs": [
    {
     "name": "stdout",
     "output_type": "stream",
     "text": [
      "\n",
      "Conversion Rates:\n",
      " event_name\n",
      "MainScreenAppear           100.000000\n",
      "OffersScreenAppear         -38.091387\n",
      "CartScreenAppear           -18.702373\n",
      "PaymentScreenSuccessful     -5.222282\n",
      "Tutorial                   -76.264481\n",
      "Name: device_id, dtype: float64\n"
     ]
    }
   ],
   "source": [
    "# Drop-Off Rates\n",
    "funnel = users_per_event.T\n",
    "conversion_rates = funnel.pct_change().fillna(1) * 100\n",
    "print(\"\\nConversion Rates:\\n\", conversion_rates)"
   ]
  },
  {
   "cell_type": "markdown",
   "metadata": {},
   "source": [
    "From the analysis of user engagement across different stages, the most significant loss of users occurs between the MainScreenAppear and OffersScreenAppear stages, where we see a drop of 38.09%. This indicates that a substantial portion of users do not proceed from the main screen to explore offers.\n",
    "\n",
    "Additionally, there is a notable drop-off of 76.26% between the PaymentScreenSuccessful and Tutorial stages, suggesting that most users do not continue to the tutorial after completing a purchase.\n",
    "\n",
    "Overall, the highest proportion of users is lost at the MainScreenAppear to OffersScreenAppear stage, highlighting a critical area for improvement in user retention.\n",
    "\n",
    "In conclusion, our funnel analysis reveals that while nearly half of the users complete the purchase process, significant drop-offs occur between the MainScreenAppear and OffersScreenAppear stages. This highlights a key area for improvement in user retention. Additionally, the low engagement with the tutorial post-purchase suggests a need to enhance its visibility and perceived value. \n",
    "\n",
    "Next, we will delve into the analysis of A/A/B experiments to further optimize our user experience."
   ]
  },
  {
   "cell_type": "markdown",
   "metadata": {},
   "source": [
    "## The Experiments\n",
    "\n",
    "In this section, we aim to evaluate the impact of **a proposed font change** in Taste Treaseres Market application through an A/A/B test. The design team is interested in updating the fonts, but management is concerned that the new design might be intimidating for users. \n",
    "\n",
    "To make an informed decision, users were divided into three groups: \n",
    "* **Two control groups (246 and 247)** using the old fonts.\n",
    "* **One test group (248)** using the new fonts.\n",
    "\n",
    "By having two control groups, the reliability of our tests can be ensured. If the control groups show similar results, we can confidently attribute any differences to the new fonts. If there are significant differences between the control groups, it may indicate other factors affecting the results. This approach allows us to determine which font set produces better outcomes and guides us in planning future tests with sufficient data and time.\n",
    "\n",
    "Let's begin by examining the number of users in each group:"
   ]
  },
  {
   "cell_type": "code",
   "execution_count": 16,
   "metadata": {},
   "outputs": [
    {
     "name": "stdout",
     "output_type": "stream",
     "text": [
      "exp_id\n",
      "246    2484\n",
      "247    2513\n",
      "248    2537\n",
      "Name: device_id, dtype: int64\n"
     ]
    }
   ],
   "source": [
    "# Number of users in each group\n",
    "users_per_group = df2.groupby('exp_id')['device_id'].nunique()\n",
    "print(users_per_group)"
   ]
  },
  {
   "cell_type": "markdown",
   "metadata": {},
   "source": [
    "We have two control groups in the A/A test, where we validate our mechanisms and calculations. Let's check if there is a statistically significant difference between samples 246 and 247. For that, we use the chi-square test to analyze these groups because it is ideal for comparing frequencies of categorical data. Our study involved comparing the frequency of user events across different groups to check for significant differences. The chi-square test effectively determines if observed differences in event frequencies are statistically significant, ensuring a robust analysis of user behavior."
   ]
  },
  {
   "cell_type": "code",
   "execution_count": 17,
   "metadata": {},
   "outputs": [
    {
     "name": "stdout",
     "output_type": "stream",
     "text": [
      "Chi-square test: chi2 = 345.13122833382465, p-value = 1.973193565024404e-73\n"
     ]
    }
   ],
   "source": [
    "# Statistical significance between control groups (246 and 247)\n",
    "control_groups = df2[df2['exp_id'].isin([246, 247])]\n",
    "contingency_table = pd.crosstab(control_groups['event_name'], control_groups['exp_id'])\n",
    "chi2, p, _, _ = chi2_contingency(contingency_table)\n",
    "print(f'Chi-square test: chi2 = {chi2}, p-value = {p}')"
   ]
  },
  {
   "cell_type": "markdown",
   "metadata": {},
   "source": [
    "The chi-square test results revealed a significant difference between the two control groups (246 and 247), with a chi-square value of 345.13 and a p-value of 1.97e-73. This indicates that the distribution of event types varies significantly between the two groups. \n",
    "\n",
    "Given these discrepancies, it is crucial to thoroughly examine the dataset to identify and address any underlying factors causing these differences. This step is essential to ensure the reliability of our A/A/B test results before we proceed with comparing the control groups to the test group (248). Our next steps will focus on investigating the specific events driving these differences and ensuring the robustness of our experimental setup.\n",
    "\n",
    "We do that with the help of these analyses:\n",
    "* Event frequencies in each control group.\n",
    "* Average number of events per user in each control group.\n",
    "* Temporal Analysis.\n",
    "\n",
    "By running these analyses, we can identify specific areas where the control groups differ. This could include differences in the types of events users engage with, the number of events they trigger, or temporal patterns."
   ]
  },
  {
   "cell_type": "code",
   "execution_count": 18,
   "metadata": {},
   "outputs": [
    {
     "name": "stdout",
     "output_type": "stream",
     "text": [
      "Event Frequencies in Control Group 246:\n",
      " event_name\n",
      "MainScreenAppear           37708\n",
      "OffersScreenAppear         14773\n",
      "CartScreenAppear           14711\n",
      "PaymentScreenSuccessful    11910\n",
      "Tutorial                     323\n",
      "Name: count, dtype: int64\n",
      "\n",
      "Event Frequencies in Control Group 247:\n",
      " event_name\n",
      "MainScreenAppear           39123\n",
      "OffersScreenAppear         15182\n",
      "CartScreenAppear           12456\n",
      "PaymentScreenSuccessful    10043\n",
      "Tutorial                     343\n",
      "Name: count, dtype: int64\n"
     ]
    }
   ],
   "source": [
    "# Event frequencies in each control group\n",
    "event_freq_246 = df2[df2['exp_id'] == 246]['event_name'].value_counts()\n",
    "event_freq_247 = df2[df2['exp_id'] == 247]['event_name'].value_counts()\n",
    "\n",
    "print(\"Event Frequencies in Control Group 246:\\n\", event_freq_246)\n",
    "print('')\n",
    "print(\"Event Frequencies in Control Group 247:\\n\", event_freq_247)\n"
   ]
  },
  {
   "cell_type": "markdown",
   "metadata": {},
   "source": [
    "Here's some key observations in event frequencies for the A/A control groups; Control Group 246 had 37,708 occurrences of MainScreenAppear, while Control Group 247 had 39,123. Similar variations were seen in other events, such as OffersScreenAppear and CartScreenAppear. These differences indicated inconsistencies in user behavior between the two control groups, necessitating further investigation to ensure the integrity of the experiment.\n",
    "\n",
    "Let's delve into these discrepancies through the next analysis:"
   ]
  },
  {
   "cell_type": "code",
   "execution_count": 19,
   "metadata": {},
   "outputs": [
    {
     "name": "stdout",
     "output_type": "stream",
     "text": [
      "Average Events per User in Control Group 246: 31.97\n",
      "Average Events per User in Control Group 247: 30.70\n"
     ]
    }
   ],
   "source": [
    "# Average number of events per user in each control group\n",
    "avg_events_per_user_246 = df2[df2['exp_id'] == 246].groupby('device_id').size().mean()\n",
    "avg_events_per_user_247 = df2[df2['exp_id'] == 247].groupby('device_id').size().mean()\n",
    "\n",
    "print(f\"Average Events per User in Control Group 246: {avg_events_per_user_246:.2f}\")\n",
    "print(f\"Average Events per User in Control Group 247: {avg_events_per_user_247:.2f}\")\n"
   ]
  },
  {
   "cell_type": "markdown",
   "metadata": {},
   "source": [
    "Control Group 246 had an average of 31.97 events per user, while Control Group 247 had an average of 30.70 events per user. These averages indicated a slight discrepancy in user engagement between the two groups, not a hughe difference, and that's why we need a deeper analysis.\n",
    "\n",
    "Let's exmine event counts throughout the days and map them in a time series graphic:"
   ]
  },
  {
   "cell_type": "code",
   "execution_count": 20,
   "metadata": {},
   "outputs": [
    {
     "name": "stdout",
     "output_type": "stream",
     "text": [
      "Event Counts by Date for Control Group 246:\n",
      " event_date\n",
      "2019-08-01    11581\n",
      "2019-08-02    10960\n",
      "2019-08-03    10599\n",
      "2019-08-04    11533\n",
      "2019-08-05    12381\n",
      "2019-08-06    11740\n",
      "2019-08-07    10631\n",
      "dtype: int64\n",
      "\n",
      "Event Counts by Date for Control Group 247:\n",
      " event_date\n",
      "2019-08-01    12336\n",
      "2019-08-02    11015\n",
      "2019-08-03    11040\n",
      "2019-08-04     9949\n",
      "2019-08-05    10971\n",
      "2019-08-06    11731\n",
      "2019-08-07    10105\n",
      "dtype: int64\n"
     ]
    },
    {
     "data": {
      "image/png": "[encoded data removed]",
      "text/plain": [
       "<Figure size 1000x500 with 1 Axes>"
      ]
     },
     "metadata": {},
     "output_type": "display_data"
    }
   ],
   "source": [
    "# Temporal Analysis\n",
    "\n",
    "# Convert event_date to date format\n",
    "df2.loc[:, 'event_date'] = df2['event_date'].dt.date\n",
    "\n",
    "# Group by date and experiment ID\n",
    "event_counts_by_date_246 = df2[df2['exp_id'] == 246].groupby('event_date').size()\n",
    "event_counts_by_date_247 = df2[df2['exp_id'] == 247].groupby('event_date').size()\n",
    "\n",
    "print(\"Event Counts by Date for Control Group 246:\\n\", event_counts_by_date_246)\n",
    "print('')\n",
    "print(\"Event Counts by Date for Control Group 247:\\n\", event_counts_by_date_247)\n",
    "\n",
    "# Let's plot this thing:\n",
    "plt.figure(figsize=(10, 5))\n",
    "plt.plot(event_counts_by_date_246, label='Control Group 246')\n",
    "plt.plot(event_counts_by_date_247, label='Control Group 247')\n",
    "plt.xlabel('Date')\n",
    "plt.ylabel('Event Count')\n",
    "plt.title('Event Counts Over Time')\n",
    "plt.legend()\n",
    "plt.xticks(rotation=45)\n",
    "plt.show()\n"
   ]
  },
  {
   "cell_type": "markdown",
   "metadata": {},
   "source": [
    "Here we observed the event counts over time for each control group. The time series graphic revealed that Control Group 246 had consistently lower event counts compared to Control Group 247. These discrepancies indicated potential variations in user activity and engagement patterns between the two control groups over the observed period.\n",
    "\n",
    "If we had any doubt control groups 246 and 247 were any different, here we have it more clear.\n",
    "\n",
    "The analyses revealed there are noticeable differences in the event frequencies and proportions between the two control groups. Given these discrepancies, we will address this problem by focusing on within-group comparisons, comparing user engagement with specific events within each control group and between the control groups and the test group. This approach helps isolate the effect of the new font, ensuring that any observed differences are attributable to the font change rather than pre-existing discrepancies between the control groups. \n",
    "\n",
    "By following this method, we aim to provide a robust and accurate assessment of the new font's impact on user behavior and provide a clearer understanding of the impact of the new font design.\n",
    "\n",
    "For this, we had to create a huge function which will give us the results we want. Let's see what we've got:"
   ]
  },
  {
   "cell_type": "code",
   "execution_count": 21,
   "metadata": {},
   "outputs": [
    {
     "name": "stdout",
     "output_type": "stream",
     "text": [
      "Event: MainScreenAppear\n",
      "Control Group 1 (246): 2450/2484 (0.9863)\n",
      "Control Group 2 (247): 2476/2513 (0.9853)\n",
      "Chi-square test between Control Groups: chi2 = 0.03602851682130365, p-value = 0.8494566142966455\n",
      "Test Group (248) vs Control Group 1 (246): chi2 = 0.8834165040299519, p-value = 0.3472676309449323\n",
      "Test Group (248) vs Control Group 2 (247): chi2 = 0.3983125032412812, p-value = 0.5279620396808148\n",
      "Test Group (248) vs Combined Control Groups: chi2 = 0.9014259337025656, p-value = 0.3423996534801835\n",
      "--------------------------------------------------\n",
      "Event: Tutorial\n",
      "Control Group 1 (246): 278/2484 (0.1119)\n",
      "Control Group 2 (247): 283/2513 (0.1126)\n",
      "Chi-square test between Control Groups: chi2 = 0.0011122521041152075, p-value = 0.973395127745573\n",
      "Test Group (248) vs Control Group 1 (246): chi2 = 0.03088486482390027, p-value = 0.8604974997877761\n",
      "Test Group (248) vs Control Group 2 (247): chi2 = 0.06480219448740847, p-value = 0.7990608314691864\n",
      "Test Group (248) vs Combined Control Groups: chi2 = 0.06779510002875028, p-value = 0.7945745853052437\n",
      "--------------------------------------------------\n",
      "Event: MainScreenAppear\n",
      "Control Group 1 (246): 2450/2484 (0.9863)\n",
      "Control Group 2 (247): 2476/2513 (0.9853)\n",
      "Chi-square test between Control Groups: chi2 = 0.03602851682130365, p-value = 0.8494566142966455\n",
      "Test Group (248) vs Control Group 1 (246): chi2 = 0.8834165040299519, p-value = 0.3472676309449323\n",
      "Test Group (248) vs Control Group 2 (247): chi2 = 0.3983125032412812, p-value = 0.5279620396808148\n",
      "Test Group (248) vs Combined Control Groups: chi2 = 0.9014259337025656, p-value = 0.3423996534801835\n",
      "--------------------------------------------------\n",
      "Event: OffersScreenAppear\n",
      "Control Group 1 (246): 1542/2484 (0.6208)\n",
      "Control Group 2 (247): 1520/2513 (0.6049)\n",
      "Chi-square test between Control Groups: chi2 = 1.267754896034972, p-value = 0.2601882827586955\n",
      "Test Group (248) vs Control Group 1 (246): chi2 = 1.5277421371842794, p-value = 0.21645162622347067\n",
      "Test Group (248) vs Control Group 2 (247): chi2 = 0.005218879662345286, p-value = 0.9424094694770674\n",
      "Test Group (248) vs Combined Control Groups: chi2 = 0.5729646855803822, p-value = 0.44908322853530325\n",
      "--------------------------------------------------\n",
      "Event: CartScreenAppear\n",
      "Control Group 1 (246): 1266/2484 (0.5097)\n",
      "Control Group 2 (247): 1238/2513 (0.4926)\n",
      "Chi-square test between Control Groups: chi2 = 1.380801892791161, p-value = 0.23996460305565967\n",
      "Test Group (248) vs Control Group 1 (246): chi2 = 3.0316236775046055, p-value = 0.08165626461171471\n",
      "Test Group (248) vs Control Group 2 (247): chi2 = 0.27946187266435596, p-value = 0.5970541414908999\n",
      "Test Group (248) vs Combined Control Groups: chi2 = 1.7186697496225203, p-value = 0.18986436746845747\n",
      "--------------------------------------------------\n",
      "Event: PaymentScreenSuccessful\n",
      "Control Group 1 (246): 1200/2484 (0.4831)\n",
      "Control Group 2 (247): 1158/2513 (0.4608)\n",
      "Chi-square test between Control Groups: chi2 = 2.401436108074845, p-value = 0.12122391904550221\n",
      "Test Group (248) vs Control Group 1 (246): chi2 = 1.5028246258066822, p-value = 0.22023725811454054\n",
      "Test Group (248) vs Control Group 2 (247): chi2 = 0.0948778582898765, p-value = 0.758065214372279\n",
      "Test Group (248) vs Combined Control Groups: chi2 = 0.24936071589156533, p-value = 0.6175255771354541\n",
      "--------------------------------------------------\n"
     ]
    }
   ],
   "source": [
    "# Function to calculate proportions and perform chi-square test\n",
    "def compare_event_proportions(df2, event_name, control_group_1, control_group_2, test_group):\n",
    "    # Calculate number of users performing the event in each group\n",
    "    users_event_cg1 = df2[(df2['exp_id'] == control_group_1) & (df2['event_name'] == event_name)]['device_id'].nunique()\n",
    "    users_event_cg2 = df2[(df2['exp_id'] == control_group_2) & (df2['event_name'] == event_name)]['device_id'].nunique()\n",
    "    users_event_tg = df2[(df2['exp_id'] == test_group) & (df2['event_name'] == event_name)]['device_id'].nunique()\n",
    "\n",
    "    total_users_cg1 = df2[df2['exp_id'] == control_group_1]['device_id'].nunique()\n",
    "    total_users_cg2 = df2[df2['exp_id'] == control_group_2]['device_id'].nunique()\n",
    "    total_users_tg = df2[df2['exp_id'] == test_group]['device_id'].nunique()\n",
    "\n",
    "    # Calculate proportions\n",
    "    proportion_cg1 = users_event_cg1 / total_users_cg1\n",
    "    proportion_cg2 = users_event_cg2 / total_users_cg2\n",
    "    proportion_tg = users_event_tg / total_users_tg\n",
    "\n",
    "    # Create contingency table for chi-square test\n",
    "    contingency_table = [[users_event_cg1, total_users_cg1 - users_event_cg1],\n",
    "                         [users_event_cg2, total_users_cg2 - users_event_cg2]]\n",
    "\n",
    "    chi2, p_cg, _, _ = chi2_contingency(contingency_table)\n",
    "\n",
    "    print(f'Event: {event_name}')\n",
    "    print(f'Control Group 1 (246): {users_event_cg1}/{total_users_cg1} ({proportion_cg1:.4f})')\n",
    "    print(f'Control Group 2 (247): {users_event_cg2}/{total_users_cg2} ({proportion_cg2:.4f})')\n",
    "    print(f'Chi-square test between Control Groups: chi2 = {chi2}, p-value = {p_cg}')\n",
    "\n",
    "    # Compare test group with each control group separately\n",
    "    for cg_proportion, cg_label in zip([proportion_cg1, proportion_cg2], ['Control Group 1 (246)', 'Control Group 2 (247)']):\n",
    "        contingency_table_test = [[users_event_tg, total_users_tg - users_event_tg],\n",
    "                                  [cg_proportion * total_users_tg, (1 - cg_proportion) * total_users_tg]]\n",
    "        chi2_test, p_test, _, _ = chi2_contingency(contingency_table_test)\n",
    "        print(f'Test Group (248) vs {cg_label}: chi2 = {chi2_test}, p-value = {p_test}')\n",
    "\n",
    "    # Combine control groups\n",
    "    combined_users_cg = users_event_cg1 + users_event_cg2\n",
    "    combined_total_users_cg = total_users_cg1 + total_users_cg2\n",
    "    combined_proportion_cg = combined_users_cg / combined_total_users_cg\n",
    "\n",
    "    # Compare test group with combined control groups\n",
    "    contingency_table_combined = [[users_event_tg, total_users_tg - users_event_tg],\n",
    "                                  [combined_users_cg, combined_total_users_cg - combined_users_cg]]\n",
    "    chi2_combined, p_combined, _, _ = chi2_contingency(contingency_table_combined)\n",
    "    print(f'Test Group (248) vs Combined Control Groups: chi2 = {chi2_combined}, p-value = {p_combined}')\n",
    "    print('-' * 50)\n",
    "\n",
    "# Identify the most popular event\n",
    "most_popular_event = df2['event_name'].value_counts().idxmax()\n",
    "\n",
    "# Compare proportions for the most popular event\n",
    "compare_event_proportions(df2, most_popular_event, 246, 247, 248)\n",
    "\n",
    "# List all unique events\n",
    "unique_events = df2['event_name'].unique()\n",
    "\n",
    "# Compare proportions for all events\n",
    "for event in unique_events:\n",
    "    compare_event_proportions(df2, event, 246, 247, 248)\n"
   ]
  },
  {
   "cell_type": "markdown",
   "metadata": {},
   "source": [
    "Alright, let's interpret this analysis.\n",
    "\n",
    "The within-group comparisons indicate that **the control groups (246 and 247) are similar in terms of user engagement with specific events.** The chi-square tests between the control groups for each event show **no statistically significant differences** (p-values > 0.05). The lack of statistically significant differences suggests that the control groups were correctly divided and are comparable. \n",
    "\n",
    "Similarly, the test group (248) shows no significant differences from the control groups for the events analyzed. Comparisons between the test group (248) and each control group, as well as the combined control groups, also show no statistically significant differences for the events analyzed (p-values > 0.05). This indicates that **the new font did not have a statistically significant impact on user behavior.**\n",
    "\n",
    "Based on these findings, the design and management teams can make an informed decision regarding the proposed font change. Further analysis may be conducted on other metrics or user segments to ensure a comprehensive understanding of the new font's impact.\n",
    "\n",
    "# Conclusion\n",
    "\n",
    "The comprehensive analysis conducted on Taste Treasures Market's user data has yielded several critical insights that can drive strategic decisions for enhancing user experience and increasing conversions. \n",
    "\n",
    "**Funnel Analysis:**\n",
    "\n",
    "The funnel analysis revealed a logical sequence of user events, starting from the main screen and culminating in successful payments. \n",
    "\n",
    "Notably, there was a significant drop-off between the \"MainScreenAppear\" and \"OffersScreenAppear\" events, with only 38.09% of users moving to the offers stage. Despite this, the conversion rate from \"CartScreenAppear\" to \"PaymentScreenSuccessful\" was impressively high at 95%, indicating that once users add items to their cart, they are highly likely to complete the purchase. \n",
    "\n",
    "This suggests that efforts to optimize the transition from the main screen to the offers section could substantially increase overall conversion rates.\n",
    "\n",
    "**Experiment Analysis (A/A/B Test):**\n",
    "\n",
    "The initial chi-square tests on the A/A groups (Control Group 1: 246 and Control Group 2: 247) indicated significant discrepancies, prompting a more detailed within-group comparison. This deeper analysis revealed no statistically significant differences between the control groups and the test group (248) across all key events. \n",
    "\n",
    "This finding suggests that the new font introduced in the test group did not negatively impact user behavior. Therefore, it is advisable to proceed with the font change, as it is unlikely to deter user engagement or conversion rates.\n",
    "\n",
    "Combining the insights from both analyses, it becomes evident that Taste Treasures should focus on streamlining the user journey, particularly enhancing the visibility and attractiveness of offers from the main screen. The high conversion rates in later stages of the funnel are encouraging and indicate a strong potential for increased overall conversions if initial drop-offs can be mitigated. Additionally, the successful implementation of the new font without adverse effects on user behavior supports the decision to proceed with this design change.\n",
    "\n",
    "**In a Nutshell:**\n",
    "1. **Optimize Main Screen Navigation:**\n",
    "   Simplify and enhance the navigation from the main screen to the offers section to reduce drop-offs at this critical juncture.\n",
    "\n",
    "2. **Implement the New Font:**\n",
    "   Proceed with the new font implementation across the application, as it has been shown to have no negative impact on user behavior.\n",
    "\n",
    "3. **Enhance Post-Purchase Engagement:**\n",
    "   Introduce mechanisms to further engage users after a purchase, such as personalized tutorials and feedback requests, to foster ongoing user satisfaction and loyalty.\n",
    "\n",
    "By addressing these areas, Taste Treasures can enhance the overall user experience, increase conversion rates, and maintain user engagement, thereby supporting the company's growth and success.\n",
    "\n",
    "Thanks for your time\n",
    "\n",
    "Ricardo Siller Cardenas"
   ]
  }
 ],
 "metadata": {
  "kernelspec": {
   "display_name": "py312",
   "language": "python",
   "name": "python3"
  },
  "language_info": {
   "codemirror_mode": {
    "name": "ipython",
    "version": 3
   },
   "file_extension": ".py",
   "mimetype": "text/x-python",
   "name": "python",
   "nbconvert_exporter": "python",
   "pygments_lexer": "ipython3",
   "version": "3.12.4"
  }
 },
 "nbformat": 4,
 "nbformat_minor": 2
}
